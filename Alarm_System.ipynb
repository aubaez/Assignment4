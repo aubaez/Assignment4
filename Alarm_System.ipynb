{
 "cells": [
  {
   "cell_type": "markdown",
   "metadata": {},
   "source": [
    "# Assignment 4: Alarm System"
   ]
  },
  {
   "cell_type": "code",
   "execution_count": 1,
   "metadata": {},
   "outputs": [
    {
     "data": {
      "application/javascript": [
       "\n",
       "try {\n",
       "require(['notebook/js/codecell'], function(codecell) {\n",
       "  codecell.CodeCell.options_default.highlight_modes[\n",
       "      'magic_text/x-csrc'] = {'reg':[/^%%microblaze/]};\n",
       "  Jupyter.notebook.events.one('kernel_ready.Kernel', function(){\n",
       "      Jupyter.notebook.get_cells().map(function(cell){\n",
       "          if (cell.cell_type == 'code'){ cell.auto_highlight(); } }) ;\n",
       "  });\n",
       "});\n",
       "} catch (e) {};\n"
      ]
     },
     "metadata": {},
     "output_type": "display_data"
    },
    {
     "data": {
      "application/javascript": [
       "\n",
       "try {\n",
       "require(['notebook/js/codecell'], function(codecell) {\n",
       "  codecell.CodeCell.options_default.highlight_modes[\n",
       "      'magic_text/x-csrc'] = {'reg':[/^%%pybind11/]};\n",
       "  Jupyter.notebook.events.one('kernel_ready.Kernel', function(){\n",
       "      Jupyter.notebook.get_cells().map(function(cell){\n",
       "          if (cell.cell_type == 'code'){ cell.auto_highlight(); } }) ;\n",
       "  });\n",
       "});\n",
       "} catch (e) {};\n"
      ]
     },
     "metadata": {},
     "output_type": "display_data"
    }
   ],
   "source": [
    "from pynq.overlays.base import BaseOverlay\n",
    "import multiprocessing\n",
    "import os\n",
    "import time\n",
    "import socket\n",
    "from datetime import datetime\n",
    "base = BaseOverlay(\"base.bit\")\n"
   ]
  },
  {
   "cell_type": "markdown",
   "metadata": {},
   "source": [
    "### Interacting with GPIO from MicroBlaze to control Buzzer"
   ]
  },
  {
   "cell_type": "code",
   "execution_count": 2,
   "metadata": {},
   "outputs": [],
   "source": [
    "%%microblaze base.PMODB\n",
    "\n",
    "#include \"gpio.h\"\n",
    "#include \"pyprintf.h\"\n",
    "\n",
    "//Function to turn on/off a Buzzer pin of PMODB\n",
    "void write_gpio(unsigned int pin, unsigned int val){\n",
    "    if (val > 1){\n",
    "        pyprintf(\"pin value must be 0 or 1\");\n",
    "    }\n",
    "    gpio pin_out = gpio_open(pin);\n",
    "    gpio_set_direction(pin_out, GPIO_OUT);\n",
    "    gpio_write(pin_out, val);\n",
    "}\n",
    "\n",
    "//Fuction to reset buzzer GPIO pin on PMODB\n",
    "void reset_buzzer(){\n",
    "        write_gpio(2,0);\n",
    "}"
   ]
  },
  {
   "cell_type": "markdown",
   "metadata": {},
   "source": [
    "### Alarm Tone and Duration "
   ]
  },
  {
   "cell_type": "code",
   "execution_count": 3,
   "metadata": {},
   "outputs": [],
   "source": [
    "#Function to emulate Alarm tone. frequency is in Hz\n",
    "def setAlarm(frequency):\n",
    "    sleepVal = 1/(2*frequency)    # define sleep time for duty cycle\n",
    "    end_time = time.time() + .5   # define alarm duration to be .5 seconds\n",
    "    while time.time() <end_time:  # run alarm tone for .5 seconds\n",
    "        write_gpio(2,1)\n",
    "        time.sleep(sleepVal)\n",
    "        write_gpio(2,0)\n",
    "        time.sleep(sleepVal)"
   ]
  },
  {
   "cell_type": "markdown",
   "metadata": {},
   "source": [
    "### Server Process"
   ]
  },
  {
   "cell_type": "code",
   "execution_count": 4,
   "metadata": {},
   "outputs": [],
   "source": [
    "# For this Server function, the server listens to my local machine at Port 12345\n",
    "# This is done because I do not have access to another PYNQ board\n",
    "# So we will simulate another PYNQ board this way\n",
    "# Input from simulated PYNQ board will be done by sending messages and decoding string for specific Words/Phrases\n",
    "\n",
    "def server_p(i, _time):\n",
    "    sock = socket.socket(socket.AF_INET, socket.SOCK_STREAM)\n",
    "    # Bind the socket to the pynq board <CLIENT-IP> at port <LISTENING-PORT>\n",
    "    sock.bind(('0.0.0.0', 12345))\n",
    "    sock.listen()\n",
    "    print('Waiting for Connection')\n",
    "    # Accept connections\n",
    "    conn, addr = sock.accept()\n",
    "    # Receive bytes from the connection\n",
    "    with conn:\n",
    "        print(f\"Connected by {addr} and listening\") #Connected Message\n",
    "        # Always running listening mode\n",
    "        while True:\n",
    "            data = conn.recv(1024)\n",
    "            if data:\n",
    "                if data.decode() == \"Disconnecting\": #if Client sent message saying Disconnecting\n",
    "                    print(f\"Communication Ended\")\n",
    "                    sock.close()                     #socket is closed to end connecting\n",
    "                    break\n",
    "                elif data.decode() == \"Setting Alarm\":   #if client sent message saying Setting Alarm\n",
    "                    setAlarm(120)                       # set off alarm with Freq 120, assigned to simulated PYNQ\n",
    "                else:\n",
    "                    print(data.decode())\n"
   ]
  },
  {
   "cell_type": "markdown",
   "metadata": {},
   "source": [
    "### Client Process"
   ]
  },
  {
   "cell_type": "code",
   "execution_count": 5,
   "metadata": {},
   "outputs": [],
   "source": [
    "# For this Client function, the server connects to my local machine at Port 12345\n",
    "# This is done because I do not have access to another PYNQ board, so my local machine is Simulating another PYNQ\n",
    "# All button input for this Client code is done on the PYNQ board, no work around needed to fulfill requirement\n",
    "\n",
    "cond = True\n",
    "isConnected = False\n",
    "\n",
    "def client_p(i,_time):\n",
    "    global cond,isConnected\n",
    "    sock = socket.socket(socket.AF_INET, socket.SOCK_STREAM)\n",
    "    while cond:\n",
    "        if base.buttons[0].read() != 0 and isConnected == False: #make sure not to connect more than once\n",
    "            time.sleep(1)\n",
    "            sock.connect(('192.168.2.1',65432))\n",
    "            print('Connect to Server')\n",
    "            isConnected = True\n",
    "        while isConnected:\n",
    "            if base.buttons[1].read() != 0:\n",
    "                print('Button[1] Pressed: Turning on Server Alarm')\n",
    "                sock.sendall(b'Turning on Alarm')\n",
    "                time.sleep(.5)\n",
    "                setAlarm(75)\n",
    "            elif base.buttons[3].read() != 0:\n",
    "                print('Button[3] pressed: Disconnecting from Server')\n",
    "                sock.sendall(b'Disconnecting')\n",
    "                time.sleep(1)\n",
    "                sock.shutdown(1)\n",
    "                sock.close()\n",
    "                isConnected = False\n",
    "                cond = False\n",
    "\n",
    "            "
   ]
  },
  {
   "cell_type": "markdown",
   "metadata": {},
   "source": [
    "#### Run 2 Processes"
   ]
  },
  {
   "cell_type": "code",
   "execution_count": 6,
   "metadata": {},
   "outputs": [
    {
     "name": "stdout",
     "output_type": "stream",
     "text": [
      "Waiting for Connection\n",
      "Connected by ('192.168.2.1', 60037) and listening\n",
      "Disconnect\n",
      "Communication Ended\n",
      "Connect to Server\n",
      "Button[1] Pressed: Turning on Server Alarm\n",
      "Button[1] Pressed: Turning on Server Alarm\n",
      "Button[3] pressed: Disconnecting from Server\n"
     ]
    }
   ],
   "source": [
    "procsList = [] # list of 2 processes\n",
    "\n",
    "# Launch process1 on CPU0\n",
    "proc1_start = time.time()\n",
    "proc1 = multiprocessing.Process(target=server_p, args=(0,proc1_start))\n",
    "os.system(\"taskset -p -c [] []\".format(0,proc1.pid))\n",
    "proc1.start() #start process 1 for server code\n",
    "procsList.append(proc1)\n",
    "\n",
    "\n",
    "\n",
    "proc1.join()\n",
    "\n",
    "# Launch process2 on CPU1\n",
    "proc2_start = time.time()\n",
    "proc2 = multiprocessing.Process(target=client_p, args=(1,proc2_start))\n",
    "os.system(\"taskset -p -c [] []\".format(1,proc2.pid))\n",
    "proc2.start() #start process 1 for server code\n",
    "procsList.append(proc2)\n",
    "proc2.join()\n"
   ]
  },
  {
   "cell_type": "code",
   "execution_count": null,
   "metadata": {},
   "outputs": [],
   "source": [
    "# The following is the Client code used to Simulate another PYNQ board on my local machine\n",
    "# There are slight differences, since the PYNQ board is not used\n",
    "# echo-client3.py\n",
    "\n",
    "import socket\n",
    "\n",
    "cond = True\n",
    "isConnected = False\n",
    "\n",
    "sock = socket.socket(socket.AF_INET, socket.SOCK_STREAM)\n",
    "sock.connect(('192.168.2.99',12345))\n",
    "print('Connect to Server')\n",
    "isConnected = True\n",
    "while isConnected:\n",
    "    getInput = input(\"Message to send:\\n\")\n",
    "    msg = getInput.encode('utf-8')\n",
    "    sock.sendall(msg)\n",
    "    if msg.decode() == \"Disconnecting\":\n",
    "        isConnected = False\n",
    "        sock.shutdown(1)\n",
    "        sock.close()\n",
    "        break\n",
    "            "
   ]
  },
  {
   "cell_type": "code",
   "execution_count": null,
   "metadata": {},
   "outputs": [],
   "source": [
    "# The following is the Server code used to Simulate another PYNQ board on my local machine\n",
    "# There are slight differences, since the PYNQ board is not used\n",
    "# echo-server.py\n",
    "\n",
    "import socket\n",
    "\n",
    "sock = socket.socket(socket.AF_INET, socket.SOCK_STREAM)\n",
    "# TODO:\n",
    "# 1: Bind the socket to the pynq board <CLIENT-IP> at port <LISTENING-PORT>\n",
    "sock.bind(('0.0.0.0', 65432))\n",
    "# 2: Accept connections\n",
    "sock.listen()\n",
    "print('Waiting for Connection')\n",
    "conn, addr = sock.accept()\n",
    "# 3: Receive bytes from the connection\n",
    "with conn:\n",
    "    print(f\"Connected by {addr} and listening\")\n",
    "    while True:\n",
    "        data = conn.recv(1024)\n",
    "        if data:\n",
    "            if data.decode() == \"Disconnecting\":\n",
    "                print(f\"Communication Ended\")\n",
    "                break\n",
    "            else:\n",
    "                print(data.decode())"
   ]
  },
  {
   "cell_type": "markdown",
   "metadata": {},
   "source": [
    "### Conclusion"
   ]
  },
  {
   "cell_type": "markdown",
   "metadata": {},
   "source": [
    "My workflow throughout the assignment goes as follows:  \n",
    "\n",
    "I first broke up the assignment into smaller functional areas (connecting the buzzer, generating a tone, button input, the server process, client process, and running 2 processes).  Since I do not have another PYNQ board to connect to, I had to think of a creative way to simulate the 2 processes on another board.  Once I got the buzzer working, I created an async function to set up and test the buzzer and connection requirements with the press of different buttons.  Once I got that working, I completed my server process and client process.\n",
    "\n",
    "For the second PYNQ board simulation, I decided to run server/client code on my local machine and connect to the 2 processes running on the PYNQ board by using different Ports. (I am connected via ethernet)  I used Port 12345 for 1 set of client/server and 65432 for the other set of client/server.  To simulate button input from my local machine, I decided to send messages to the PYNQ board and have the Server code decode the message.  If I sent the message \"Disconnecting\" from my local machine, the PYNQ board would also disconnect.  When I sent the message \"Turning on Alarm\" this would indicate the PYNQ board to set the buzzer off.\n",
    "\n",
    "An issue I came across was using the async function for button input.  I realized the processes were not sharing variables and it became a hassle to set flags for the client and server processes to read.  I realized later that I could directly check for button input within my server/client code and did not need the async function.  On the bright side, the button input function had helped me test my different functions.\n",
    "\n",
    "To test my overall design, I tested one processes at a time.  This helped me debug the code on my local machine and get the correct communication betweent the PYNQ board and my simulated PYNQ board.  "
   ]
  },
  {
   "cell_type": "code",
   "execution_count": null,
   "metadata": {},
   "outputs": [],
   "source": []
  }
 ],
 "metadata": {
  "kernelspec": {
   "display_name": "Python 3",
   "language": "python",
   "name": "python3"
  },
  "language_info": {
   "codemirror_mode": {
    "name": "ipython",
    "version": 3
   },
   "file_extension": ".py",
   "mimetype": "text/x-python",
   "name": "python",
   "nbconvert_exporter": "python",
   "pygments_lexer": "ipython3",
   "version": "3.8.2"
  }
 },
 "nbformat": 4,
 "nbformat_minor": 2
}
